{
 "cells": [
  {
   "cell_type": "code",
   "execution_count": 1,
   "metadata": {},
   "outputs": [],
   "source": [
    "import random"
   ]
  },
  {
   "cell_type": "code",
   "execution_count": 2,
   "metadata": {},
   "outputs": [],
   "source": [
    "class Cell():\n",
    "    '''Класс ячейки игрового поля.'''\n",
    "    def __init__(self, x, y):\n",
    "        self.x = x\n",
    "        self.y = y\n",
    "        self.cell_state = 'free'\n",
    "        self.is_shoot_in = 'nay'\n",
    "        \n",
    "    @property\n",
    "    def state(self):\n",
    "        '''Возвращает статус, свободна ячейка или занята своим кораблем,\n",
    "        скрытым кораблем противника (ил же является контуром корабля) \n",
    "        (free/ship/hidden).\n",
    "        '''\n",
    "        return self.cell_state\n",
    "    \n",
    "    @state.setter\n",
    "    def change_state(self, new_state):\n",
    "        '''Изменяет статус ячейки (free/ship/hidden).'''        \n",
    "        self.cell_state = new_state\n",
    "        \n",
    "    @property\n",
    "    def shoot_in(self):\n",
    "        '''Возвращает значение, можно ли использовать ли ячейку для стрельбы \n",
    "        (nay/yep).\n",
    "        '''        \n",
    "        return self.is_shoot_in\n",
    "    \n",
    "    @shoot_in.setter\n",
    "    def change_shoot_in(self, new_value):\n",
    "        '''Изменяет значение ячейки для стрельбы (nay/yep).'''        \n",
    "        self.is_shoot_in = new_value\n",
    "        \n",
    "    def __repr__(self):\n",
    "        '''Возвращает название ячейки.'''\n",
    "        return f'({self.x}, {self.y})'\n",
    "    "
   ]
  },
  {
   "cell_type": "code",
   "execution_count": 3,
   "metadata": {},
   "outputs": [],
   "source": [
    "class Board():\n",
    "    '''Класс для создания и управления состоянием игровой доски.'''\n",
    "    def __init__(self, player):\n",
    "        '''Инициализирует новую доску (6x6) для игрока.'''\n",
    "        self.player = player\n",
    "        self.game_board = []\n",
    "        for row in range(0, 6):\n",
    "            new_row = []\n",
    "            for col in range(0, 6):\n",
    "                new_cell = Cell(row, col)\n",
    "                new_row.append(new_cell)\n",
    "            self.game_board.append(new_row)\n",
    "    \n",
    "    @property       \n",
    "    def board(self):\n",
    "        '''Выводит игровое поле с координатами и условными обозначениями.'''\n",
    "        print(f'\\n\\tИгрок: {self.player}')\n",
    "        print(f'\\t  1 2 3 4 5 6', end='')\n",
    "        for index, row in enumerate(self.game_board):\n",
    "            print(f'\\n\\t{index + 1} ', end = '')\n",
    "            for cell in row:\n",
    "                if cell.state == 'free' and cell.shoot_in == 'nay':\n",
    "                    print('.', end=' ')\n",
    "                elif cell.state == 'free' and cell.shoot_in == 'yep':\n",
    "                    print('*', end=' ')\n",
    "                elif cell.state == 'ship' and cell.shoot_in == 'nay':\n",
    "                    print('#', end=' ')\n",
    "                elif cell.state == 'ship' and cell.shoot_in == 'yep':\n",
    "                    print('X', end=' ')\n",
    "                elif cell.state == 'hidden' and cell.shoot_in == 'nay':\n",
    "                    print('.', end=' ')\n",
    "                elif cell.state == 'hidden' and cell.shoot_in == 'yep':\n",
    "                    print('X', end=' ')\n"
   ]
  },
  {
   "cell_type": "code",
   "execution_count": 4,
   "metadata": {},
   "outputs": [],
   "source": [
    "class Ship():\n",
    "    '''Класс для управления состоянием кораблей в игре.'''\n",
    "    def __init__(self, player, level, name, cells_ship):\n",
    "        self.player = player\n",
    "        if self.player == 'human':\n",
    "            self.board = human_board\n",
    "        else:\n",
    "            self.board = ai_board\n",
    "        self.name = name\n",
    "        self.ship_level = level\n",
    "        self.ship_lives = level\n",
    "        self.ship_status = 'alive'\n",
    "        self.cells_ship = cells_ship\n",
    "        if level > 1:\n",
    "            for cell in cells_ship:\n",
    "                x, y = cell\n",
    "                if self.player == 'human':\n",
    "                    self.board.game_board[x][y].change_state = 'ship'\n",
    "                else:\n",
    "                    self.board.game_board[x][y].change_state = 'hidden'\n",
    "        else:\n",
    "            x, y = cells_ship\n",
    "            if self.player == 'human':\n",
    "                self.board.game_board[x][y].change_state = 'ship'\n",
    "            else:\n",
    "                self.board.game_board[x][y].change_state = 'hidden'\n",
    "         \n",
    "    @property\n",
    "    def lives(self):\n",
    "        '''Возвращает уровень живучести корабля.'''\n",
    "        return self.ship_lives\n",
    "        \n",
    "    def check_ship(self, cell):\n",
    "        '''Изменяет уровень живучести корабля при попадании в его ячейку.'''\n",
    "        if cell in self.cells_ship:\n",
    "            self.ship_lives -= 1\n",
    "            return True\n",
    "        else:\n",
    "            return False\n",
    "  \n",
    "    @property\n",
    "    def status(self):\n",
    "        '''Изменяет статус корабля, утратившего свою живучесть.'''\n",
    "        if self.lives == 0:\n",
    "            self.ship_status = 'dead'        \n",
    "        return self.ship_status\n",
    "    \n",
    "    def __repr__(self):\n",
    "        '''Возвращает название корабля'''\n",
    "        return self.name\n"
   ]
  },
  {
   "cell_type": "code",
   "execution_count": 5,
   "metadata": {},
   "outputs": [],
   "source": [
    "class User():\n",
    "    '''Класс для определения игрока и управления стрельбой.'''\n",
    "    def __init__(self, type):\n",
    "        '''Инициализирует игрока, устанавливает его тип (human/ai)'''\n",
    "        self.type = type\n",
    "        \n",
    "    @property\n",
    "    def shoot(self):\n",
    "        '''Устанавливает кординаты обстреливаемой ячейки'''\n",
    "        pass\n",
    "        \n",
    "    def __repr__(self):\n",
    "        '''Возвращает имя игрока'''\n",
    "        return self.name\n",
    "    \n",
    "class Human(User):\n",
    "    '''Класс для определения игрока-человека и управления стрельбой.'''\n",
    "    def __init__(self, type):\n",
    "        '''Инициализирует игрока, устанавливает его имя и тип (human)'''\n",
    "        super().__init__(type)\n",
    "        \n",
    "    @property\n",
    "    def shoot(self):\n",
    "        '''Устанавливает координаты обстреливаемой ячейки.'''\n",
    "        print('Введите цель для выстрела - координаты формата xy,')\n",
    "        print('где x - номер строки, y - номер столбца (например, 01 или 33)')\n",
    "        choice = input('Ваш выбор: ')\n",
    "        if len(choice) < 2 or len(choice) > 2:\n",
    "            print('Координаты должны быть в формате xy, где x и y - целые числа')\n",
    "            return False\n",
    "        try:    \n",
    "            x = int(choice[0])\n",
    "            y = int(choice[1])\n",
    "            if x > 0 and x < 7:\n",
    "                if y > 0 and y < 7:\n",
    "                    x -= 1\n",
    "                    y -= 1\n",
    "                    if ai_board.game_board[x][y].shoot_in != 'yep':\n",
    "                        ai_board.game_board[x][y].is_shoot_in = 'yep'\n",
    "                        self.shot = (x, y)\n",
    "                        return True\n",
    "                    else:\n",
    "                        print('Сюда уже стреляли!')\n",
    "                        return False\n",
    "                else:\n",
    "                    print('Координаты должны быть целыми числами в диапазоне 1-6')\n",
    "                    return False\n",
    "            else:\n",
    "                print('Координаты должны быть целыми числами в диапазоне 1-6')\n",
    "                return False\n",
    "        except ValueError:\n",
    "            print('Это не координаты!')\n",
    "            return False\n",
    "            \n",
    "class AI(User):\n",
    "    '''Класс для определения AI-игрока-человека и управления стрельбой.'''\n",
    "    def __init__(self, type):\n",
    "        '''Инициализирует игрока, устанавливает его имя и тип (human)'''\n",
    "        super().__init__(type)\n",
    "        \n",
    "    @property\n",
    "    def shoot(self):\n",
    "        '''Устанавливает координаты обстреливаемой ячейки.'''\n",
    "        x = random.randint(0, 5)\n",
    "        y = random.randint(0, 5)\n",
    "        if human_board.game_board[x][y].shoot_in != 'yep':\n",
    "            human_board.game_board[x][y].is_shoot_in = 'yep'\n",
    "            self.shot = (x, y)\n",
    "            return True\n",
    "        else:\n",
    "            return False \n"
   ]
  },
  {
   "cell_type": "code",
   "execution_count": 6,
   "metadata": {},
   "outputs": [],
   "source": [
    "human_board = Board('human')"
   ]
  },
  {
   "cell_type": "code",
   "execution_count": 7,
   "metadata": {},
   "outputs": [],
   "source": [
    "ai_board = Board('ai')"
   ]
  },
  {
   "cell_type": "code",
   "execution_count": 8,
   "metadata": {},
   "outputs": [],
   "source": [
    "human = Human('human')"
   ]
  },
  {
   "cell_type": "code",
   "execution_count": 9,
   "metadata": {},
   "outputs": [],
   "source": [
    "ai = AI('ai')"
   ]
  },
  {
   "cell_type": "code",
   "execution_count": 10,
   "metadata": {},
   "outputs": [
    {
     "name": "stdout",
     "output_type": "stream",
     "text": [
      "Введите цель для выстрела - координаты формата xy,\n",
      "где x - номер строки, y - номер столбца (например, 01 или 33)\n"
     ]
    },
    {
     "name": "stdin",
     "output_type": "stream",
     "text": [
      "Ваш выбор:  11\n"
     ]
    },
    {
     "data": {
      "text/plain": [
       "True"
      ]
     },
     "execution_count": 10,
     "metadata": {},
     "output_type": "execute_result"
    }
   ],
   "source": [
    "human.shoot"
   ]
  },
  {
   "cell_type": "code",
   "execution_count": 11,
   "metadata": {},
   "outputs": [
    {
     "name": "stdout",
     "output_type": "stream",
     "text": [
      "Введите цель для выстрела - координаты формата xy,\n",
      "где x - номер строки, y - номер столбца (например, 01 или 33)\n"
     ]
    },
    {
     "name": "stdin",
     "output_type": "stream",
     "text": [
      "Ваш выбор:  \n"
     ]
    },
    {
     "name": "stdout",
     "output_type": "stream",
     "text": [
      "Координаты должны быть в формате xy, где x и y - целые числа\n",
      "Введите цель для выстрела - координаты формата xy,\n",
      "где x - номер строки, y - номер столбца (например, 01 или 33)\n"
     ]
    },
    {
     "name": "stdin",
     "output_type": "stream",
     "text": [
      "Ваш выбор:  ab\n"
     ]
    },
    {
     "name": "stdout",
     "output_type": "stream",
     "text": [
      "Это не координаты!\n",
      "Введите цель для выстрела - координаты формата xy,\n",
      "где x - номер строки, y - номер столбца (например, 01 или 33)\n"
     ]
    },
    {
     "name": "stdin",
     "output_type": "stream",
     "text": [
      "Ваш выбор:  111\n"
     ]
    },
    {
     "name": "stdout",
     "output_type": "stream",
     "text": [
      "Координаты должны быть в формате xy, где x и y - целые числа\n",
      "Введите цель для выстрела - координаты формата xy,\n",
      "где x - номер строки, y - номер столбца (например, 01 или 33)\n"
     ]
    },
    {
     "name": "stdin",
     "output_type": "stream",
     "text": [
      "Ваш выбор:  11\n"
     ]
    },
    {
     "name": "stdout",
     "output_type": "stream",
     "text": [
      "Сюда уже стреляли!\n",
      "Введите цель для выстрела - координаты формата xy,\n",
      "где x - номер строки, y - номер столбца (например, 01 или 33)\n"
     ]
    },
    {
     "name": "stdin",
     "output_type": "stream",
     "text": [
      "Ваш выбор:  22\n"
     ]
    }
   ],
   "source": [
    "while human.shoot is not True:\n",
    "    human.shoot"
   ]
  },
  {
   "cell_type": "code",
   "execution_count": 14,
   "metadata": {},
   "outputs": [
    {
     "data": {
      "text/plain": [
       "True"
      ]
     },
     "execution_count": 14,
     "metadata": {},
     "output_type": "execute_result"
    }
   ],
   "source": [
    "ai.shoot"
   ]
  },
  {
   "cell_type": "code",
   "execution_count": 15,
   "metadata": {},
   "outputs": [
    {
     "data": {
      "text/plain": [
       "(3, 1)"
      ]
     },
     "execution_count": 15,
     "metadata": {},
     "output_type": "execute_result"
    }
   ],
   "source": [
    "ai.shot"
   ]
  },
  {
   "cell_type": "code",
   "execution_count": 25,
   "metadata": {},
   "outputs": [
    {
     "data": {
      "text/plain": [
       "'yep'"
      ]
     },
     "execution_count": 25,
     "metadata": {},
     "output_type": "execute_result"
    }
   ],
   "source": [
    "human_board.game_board[3][1].shoot_in"
   ]
  },
  {
   "cell_type": "code",
   "execution_count": 24,
   "metadata": {},
   "outputs": [
    {
     "data": {
      "text/plain": [
       "'yep'"
      ]
     },
     "execution_count": 24,
     "metadata": {},
     "output_type": "execute_result"
    }
   ],
   "source": [
    "ai_board.game_board[1][1].shoot_in"
   ]
  },
  {
   "cell_type": "code",
   "execution_count": 17,
   "metadata": {},
   "outputs": [],
   "source": [
    "class Squadron():\n",
    "    '''Класс устанавливает игровое поле и управляет состоянием всех кораблей игрока.'''\n",
    "    def __init__(self, player):\n",
    "        '''Инициализирует расстановку кораблей на доске.'''\n",
    "        self.player = player\n",
    "        self.ships = []\n",
    "        self.player_scores = 7\n",
    "            \n",
    "    def place_ships(self):\n",
    "        '''Расставляет корабли из паттернов.'''\n",
    "        pattern_1 = [((3, 0), (4, 0), (5, 0)),\n",
    "                     ((0, 1), (1, 1)), ((1, 3), (1, 4)),\n",
    "                     (3, 2), (3, 4), (5, 3), (5, 5)]\n",
    "        pattern_2 = [((2, 2), (2, 3), (2, 4)),\n",
    "                     ((0, 4), (0, 5)), ((5, 0), (5, 1)),\n",
    "                     (0, 2), (1, 0), (4, 3), (4, 5)]\n",
    "        choice = random.randint(1, 2)\n",
    "        if choice == 1:\n",
    "            user_pattern = pattern_1\n",
    "        else:\n",
    "            user_pattern = pattern_2\n",
    "        ship_3 = Ship(self.player, 3, 'ship_3', user_pattern[0])\n",
    "        self.ships.append(ship_3)\n",
    "        ship_2_1 = Ship(self.player, 2, 'ship_2_1', user_pattern[1])\n",
    "        self.ships.append(ship_2_1)\n",
    "        ship_2_2 = Ship(self.player, 2, 'ship_2_2', user_pattern[2])\n",
    "        self.ships.append(ship_2_2)\n",
    "        ship_1_1 = Ship(self.player, 1, 'ship_1_1', user_pattern[3])\n",
    "        self.ships.append(ship_1_1)\n",
    "        ship_1_2 = Ship(self.player, 1, 'ship_1_2', user_pattern[4])\n",
    "        self.ships.append(ship_1_2)\n",
    "        ship_1_3 = Ship(self.player, 1, 'ship_1_3', user_pattern[5])\n",
    "        self.ships.append(ship_1_3)\n",
    "        ship_1_4 = Ship(self.player, 1, 'ship_1_4', user_pattern[6])\n",
    "        self.ships.append(ship_1_4)\n",
    "        \n",
    "    @property\n",
    "    def scores(self):\n",
    "        '''Возвращает счет оставшихся кораблей игрока.'''\n",
    "        return self.player_scores\n",
    "    \n",
    "    @scores.setter\n",
    "    def check_scores(self):\n",
    "        '''Уменьшает счет всех кораблей эскадры при гибели корабля.'''\n",
    "        for ship in self.ships:\n",
    "            if ship.status == 'dead':\n",
    "                self.player_scores += 1\n",
    "        "
   ]
  },
  {
   "cell_type": "code",
   "execution_count": null,
   "metadata": {},
   "outputs": [],
   "source": []
  },
  {
   "cell_type": "code",
   "execution_count": 18,
   "metadata": {},
   "outputs": [],
   "source": [
    "human_squadron = Squadron('human')"
   ]
  },
  {
   "cell_type": "code",
   "execution_count": 19,
   "metadata": {},
   "outputs": [],
   "source": [
    "human_squadron.place_ships()"
   ]
  },
  {
   "cell_type": "code",
   "execution_count": 20,
   "metadata": {},
   "outputs": [
    {
     "data": {
      "text/plain": [
       "[ship_3, ship_2_1, ship_2_2, ship_1_1, ship_1_2, ship_1_3, ship_1_4]"
      ]
     },
     "execution_count": 20,
     "metadata": {},
     "output_type": "execute_result"
    }
   ],
   "source": [
    "human_squadron.ships"
   ]
  },
  {
   "cell_type": "code",
   "execution_count": 21,
   "metadata": {},
   "outputs": [
    {
     "data": {
      "text/plain": [
       "'free'"
      ]
     },
     "execution_count": 21,
     "metadata": {},
     "output_type": "execute_result"
    }
   ],
   "source": [
    "human_board.game_board[3][0].state"
   ]
  },
  {
   "cell_type": "code",
   "execution_count": 22,
   "metadata": {},
   "outputs": [
    {
     "name": "stdout",
     "output_type": "stream",
     "text": [
      "\n",
      "\tИгрок: human\n",
      "\t  1 2 3 4 5 6\n",
      "\t1 . . # . # # \n",
      "\t2 # . . . . . \n",
      "\t3 . . # # # . \n",
      "\t4 . * . . . . \n",
      "\t5 . . . # . # \n",
      "\t6 # # . . . . "
     ]
    }
   ],
   "source": [
    "human_board.board"
   ]
  },
  {
   "cell_type": "code",
   "execution_count": 26,
   "metadata": {},
   "outputs": [
    {
     "name": "stdout",
     "output_type": "stream",
     "text": [
      "\n",
      "\tИгрок: ai\n",
      "\t  1 2 3 4 5 6\n",
      "\t1 * . . . . . \n",
      "\t2 . * . . . . \n",
      "\t3 . . . . . . \n",
      "\t4 . . . . . . \n",
      "\t5 . . . . . . \n",
      "\t6 . . . . . . "
     ]
    }
   ],
   "source": [
    "ai_board.board"
   ]
  },
  {
   "cell_type": "code",
   "execution_count": null,
   "metadata": {},
   "outputs": [],
   "source": []
  }
 ],
 "metadata": {
  "kernelspec": {
   "display_name": "Python 3",
   "language": "python",
   "name": "python3"
  },
  "language_info": {
   "codemirror_mode": {
    "name": "ipython",
    "version": 3
   },
   "file_extension": ".py",
   "mimetype": "text/x-python",
   "name": "python",
   "nbconvert_exporter": "python",
   "pygments_lexer": "ipython3",
   "version": "3.9.1"
  }
 },
 "nbformat": 4,
 "nbformat_minor": 4
}
